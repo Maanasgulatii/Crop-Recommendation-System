{
 "cells": [
  {
   "cell_type": "code",
   "execution_count": 1,
   "id": "3ac6e1d8-abf1-4082-b242-a4fc45d80d9d",
   "metadata": {},
   "outputs": [],
   "source": [
    "import numpy as np\n",
    "import pandas as pd"
   ]
  },
  {
   "cell_type": "code",
   "execution_count": 2,
   "id": "34e8dea5-6eaf-4681-a0eb-27c5b0dc3760",
   "metadata": {
    "scrolled": true
   },
   "outputs": [
    {
     "name": "stdout",
     "output_type": "stream",
     "text": [
      "Requirement already satisfied: scikit-learn in e:\\users\\mehul\\anaconda3\\lib\\site-packages (1.5.2)\n",
      "Requirement already satisfied: numpy>=1.19.5 in e:\\users\\mehul\\anaconda3\\lib\\site-packages (from scikit-learn) (1.26.4)\n",
      "Requirement already satisfied: scipy>=1.6.0 in e:\\users\\mehul\\anaconda3\\lib\\site-packages (from scikit-learn) (1.11.4)\n",
      "Requirement already satisfied: joblib>=1.2.0 in e:\\users\\mehul\\anaconda3\\lib\\site-packages (from scikit-learn) (1.2.0)\n",
      "Requirement already satisfied: threadpoolctl>=3.1.0 in e:\\users\\mehul\\anaconda3\\lib\\site-packages (from scikit-learn) (3.5.0)\n"
     ]
    }
   ],
   "source": [
    "!pip install scikit-learn"
   ]
  },
  {
   "cell_type": "code",
   "execution_count": 3,
   "id": "9859e161-2abe-479b-9e59-cfc57a6704a4",
   "metadata": {},
   "outputs": [],
   "source": [
    "import sklearn"
   ]
  },
  {
   "cell_type": "code",
   "execution_count": 4,
   "id": "6654c1fb-a1c6-439e-ab56-cd56cde77429",
   "metadata": {},
   "outputs": [],
   "source": [
    "import matplotlib.pyplot as plt\n",
    "import seaborn as sns\n",
    "from ipywidgets import interact"
   ]
  },
  {
   "cell_type": "code",
   "execution_count": 5,
   "id": "d2cdae28-32b6-4cd8-8072-897155b8a043",
   "metadata": {},
   "outputs": [
    {
     "data": {
      "text/html": [
       "<div>\n",
       "<style scoped>\n",
       "    .dataframe tbody tr th:only-of-type {\n",
       "        vertical-align: middle;\n",
       "    }\n",
       "\n",
       "    .dataframe tbody tr th {\n",
       "        vertical-align: top;\n",
       "    }\n",
       "\n",
       "    .dataframe thead th {\n",
       "        text-align: right;\n",
       "    }\n",
       "</style>\n",
       "<table border=\"1\" class=\"dataframe\">\n",
       "  <thead>\n",
       "    <tr style=\"text-align: right;\">\n",
       "      <th></th>\n",
       "      <th>N</th>\n",
       "      <th>P</th>\n",
       "      <th>K</th>\n",
       "      <th>temperature</th>\n",
       "      <th>humidity</th>\n",
       "      <th>ph</th>\n",
       "      <th>rainfall</th>\n",
       "      <th>label</th>\n",
       "    </tr>\n",
       "  </thead>\n",
       "  <tbody>\n",
       "    <tr>\n",
       "      <th>0</th>\n",
       "      <td>37.000000</td>\n",
       "      <td>30.000000</td>\n",
       "      <td>34.000000</td>\n",
       "      <td>27.539075</td>\n",
       "      <td>53.635495</td>\n",
       "      <td>6.797779</td>\n",
       "      <td>99.354082</td>\n",
       "      <td>mango</td>\n",
       "    </tr>\n",
       "    <tr>\n",
       "      <th>1</th>\n",
       "      <td>46.534638</td>\n",
       "      <td>34.880990</td>\n",
       "      <td>90.734325</td>\n",
       "      <td>25.773682</td>\n",
       "      <td>79.593288</td>\n",
       "      <td>6.477466</td>\n",
       "      <td>85.865569</td>\n",
       "      <td>apple</td>\n",
       "    </tr>\n",
       "    <tr>\n",
       "      <th>2</th>\n",
       "      <td>16.463391</td>\n",
       "      <td>105.430706</td>\n",
       "      <td>69.872653</td>\n",
       "      <td>26.976619</td>\n",
       "      <td>102.002123</td>\n",
       "      <td>7.076716</td>\n",
       "      <td>67.165085</td>\n",
       "      <td>muskmelon</td>\n",
       "    </tr>\n",
       "    <tr>\n",
       "      <th>3</th>\n",
       "      <td>74.175425</td>\n",
       "      <td>-12.078425</td>\n",
       "      <td>21.287024</td>\n",
       "      <td>34.269941</td>\n",
       "      <td>58.250688</td>\n",
       "      <td>6.686496</td>\n",
       "      <td>154.600288</td>\n",
       "      <td>apple</td>\n",
       "    </tr>\n",
       "    <tr>\n",
       "      <th>4</th>\n",
       "      <td>41.099239</td>\n",
       "      <td>10.118283</td>\n",
       "      <td>37.458900</td>\n",
       "      <td>30.262871</td>\n",
       "      <td>73.284020</td>\n",
       "      <td>5.766613</td>\n",
       "      <td>169.906773</td>\n",
       "      <td>jute</td>\n",
       "    </tr>\n",
       "  </tbody>\n",
       "</table>\n",
       "</div>"
      ],
      "text/plain": [
       "           N           P          K  temperature    humidity        ph  \\\n",
       "0  37.000000   30.000000  34.000000    27.539075   53.635495  6.797779   \n",
       "1  46.534638   34.880990  90.734325    25.773682   79.593288  6.477466   \n",
       "2  16.463391  105.430706  69.872653    26.976619  102.002123  7.076716   \n",
       "3  74.175425  -12.078425  21.287024    34.269941   58.250688  6.686496   \n",
       "4  41.099239   10.118283  37.458900    30.262871   73.284020  5.766613   \n",
       "\n",
       "     rainfall      label  \n",
       "0   99.354082      mango  \n",
       "1   85.865569      apple  \n",
       "2   67.165085  muskmelon  \n",
       "3  154.600288      apple  \n",
       "4  169.906773       jute  "
      ]
     },
     "execution_count": 5,
     "metadata": {},
     "output_type": "execute_result"
    }
   ],
   "source": [
    "crop = pd.read_csv(\"final crop.csv\")\n",
    "crop.head()"
   ]
  },
  {
   "cell_type": "code",
   "execution_count": 6,
   "id": "4a291cb4-6204-4b78-9f72-08429b658aab",
   "metadata": {
    "scrolled": true
   },
   "outputs": [
    {
     "name": "stdout",
     "output_type": "stream",
     "text": [
      "<class 'pandas.core.frame.DataFrame'>\n",
      "RangeIndex: 6200 entries, 0 to 6199\n",
      "Data columns (total 8 columns):\n",
      " #   Column       Non-Null Count  Dtype  \n",
      "---  ------       --------------  -----  \n",
      " 0   N            6200 non-null   float64\n",
      " 1   P            6200 non-null   float64\n",
      " 2   K            6200 non-null   float64\n",
      " 3   temperature  6200 non-null   float64\n",
      " 4   humidity     6200 non-null   float64\n",
      " 5   ph           6200 non-null   float64\n",
      " 6   rainfall     6200 non-null   float64\n",
      " 7   label        6200 non-null   object \n",
      "dtypes: float64(7), object(1)\n",
      "memory usage: 387.6+ KB\n"
     ]
    }
   ],
   "source": [
    "crop.info()"
   ]
  },
  {
   "cell_type": "code",
   "execution_count": 7,
   "id": "c2d91378-2f10-4fcd-a683-eeb222f4a0d1",
   "metadata": {},
   "outputs": [
    {
     "data": {
      "text/html": [
       "<div>\n",
       "<style scoped>\n",
       "    .dataframe tbody tr th:only-of-type {\n",
       "        vertical-align: middle;\n",
       "    }\n",
       "\n",
       "    .dataframe tbody tr th {\n",
       "        vertical-align: top;\n",
       "    }\n",
       "\n",
       "    .dataframe thead th {\n",
       "        text-align: right;\n",
       "    }\n",
       "</style>\n",
       "<table border=\"1\" class=\"dataframe\">\n",
       "  <thead>\n",
       "    <tr style=\"text-align: right;\">\n",
       "      <th></th>\n",
       "      <th>N</th>\n",
       "      <th>P</th>\n",
       "      <th>K</th>\n",
       "      <th>temperature</th>\n",
       "      <th>humidity</th>\n",
       "      <th>ph</th>\n",
       "      <th>rainfall</th>\n",
       "    </tr>\n",
       "  </thead>\n",
       "  <tbody>\n",
       "    <tr>\n",
       "      <th>N</th>\n",
       "      <td>1.000000</td>\n",
       "      <td>-0.086211</td>\n",
       "      <td>-0.065671</td>\n",
       "      <td>0.005646</td>\n",
       "      <td>0.067793</td>\n",
       "      <td>0.043859</td>\n",
       "      <td>0.019761</td>\n",
       "    </tr>\n",
       "    <tr>\n",
       "      <th>P</th>\n",
       "      <td>-0.086211</td>\n",
       "      <td>1.000000</td>\n",
       "      <td>0.267832</td>\n",
       "      <td>-0.038703</td>\n",
       "      <td>-0.018886</td>\n",
       "      <td>-0.040291</td>\n",
       "      <td>-0.031943</td>\n",
       "    </tr>\n",
       "    <tr>\n",
       "      <th>K</th>\n",
       "      <td>-0.065671</td>\n",
       "      <td>0.267832</td>\n",
       "      <td>1.000000</td>\n",
       "      <td>-0.046754</td>\n",
       "      <td>0.071665</td>\n",
       "      <td>-0.057581</td>\n",
       "      <td>-0.024923</td>\n",
       "    </tr>\n",
       "    <tr>\n",
       "      <th>temperature</th>\n",
       "      <td>0.005646</td>\n",
       "      <td>-0.038703</td>\n",
       "      <td>-0.046754</td>\n",
       "      <td>1.000000</td>\n",
       "      <td>0.076883</td>\n",
       "      <td>-0.010419</td>\n",
       "      <td>-0.008409</td>\n",
       "    </tr>\n",
       "    <tr>\n",
       "      <th>humidity</th>\n",
       "      <td>0.067793</td>\n",
       "      <td>-0.018886</td>\n",
       "      <td>0.071665</td>\n",
       "      <td>0.076883</td>\n",
       "      <td>1.000000</td>\n",
       "      <td>0.017256</td>\n",
       "      <td>0.026173</td>\n",
       "    </tr>\n",
       "    <tr>\n",
       "      <th>ph</th>\n",
       "      <td>0.043859</td>\n",
       "      <td>-0.040291</td>\n",
       "      <td>-0.057581</td>\n",
       "      <td>-0.010419</td>\n",
       "      <td>0.017256</td>\n",
       "      <td>1.000000</td>\n",
       "      <td>-0.035176</td>\n",
       "    </tr>\n",
       "    <tr>\n",
       "      <th>rainfall</th>\n",
       "      <td>0.019761</td>\n",
       "      <td>-0.031943</td>\n",
       "      <td>-0.024923</td>\n",
       "      <td>-0.008409</td>\n",
       "      <td>0.026173</td>\n",
       "      <td>-0.035176</td>\n",
       "      <td>1.000000</td>\n",
       "    </tr>\n",
       "  </tbody>\n",
       "</table>\n",
       "</div>"
      ],
      "text/plain": [
       "                    N         P         K  temperature  humidity        ph  \\\n",
       "N            1.000000 -0.086211 -0.065671     0.005646  0.067793  0.043859   \n",
       "P           -0.086211  1.000000  0.267832    -0.038703 -0.018886 -0.040291   \n",
       "K           -0.065671  0.267832  1.000000    -0.046754  0.071665 -0.057581   \n",
       "temperature  0.005646 -0.038703 -0.046754     1.000000  0.076883 -0.010419   \n",
       "humidity     0.067793 -0.018886  0.071665     0.076883  1.000000  0.017256   \n",
       "ph           0.043859 -0.040291 -0.057581    -0.010419  0.017256  1.000000   \n",
       "rainfall     0.019761 -0.031943 -0.024923    -0.008409  0.026173 -0.035176   \n",
       "\n",
       "             rainfall  \n",
       "N            0.019761  \n",
       "P           -0.031943  \n",
       "K           -0.024923  \n",
       "temperature -0.008409  \n",
       "humidity     0.026173  \n",
       "ph          -0.035176  \n",
       "rainfall     1.000000  "
      ]
     },
     "execution_count": 7,
     "metadata": {},
     "output_type": "execute_result"
    }
   ],
   "source": [
    "crop.corr(numeric_only=True)"
   ]
  },
  {
   "cell_type": "code",
   "execution_count": 8,
   "id": "49f1d14f-d126-423a-a3bd-42d01b20fe70",
   "metadata": {},
   "outputs": [
    {
     "data": {
      "text/plain": [
       "<Axes: >"
      ]
     },
     "execution_count": 8,
     "metadata": {},
     "output_type": "execute_result"
    },
    {
     "data": {
      "image/png": "[encoded data removed]",
      "text/plain": [
       "<Figure size 640x480 with 2 Axes>"
      ]
     },
     "metadata": {},
     "output_type": "display_data"
    }
   ],
   "source": [
    "import seaborn as sns\n",
    "sns.heatmap(crop.corr(numeric_only = True), annot = True, cbar = True)"
   ]
  },
  {
   "cell_type": "code",
   "execution_count": 9,
   "id": "7764e564-5047-499c-b943-6f70b406786a",
   "metadata": {
    "scrolled": true
   },
   "outputs": [
    {
     "data": {
      "text/html": [
       "<div>\n",
       "<style scoped>\n",
       "    .dataframe tbody tr th:only-of-type {\n",
       "        vertical-align: middle;\n",
       "    }\n",
       "\n",
       "    .dataframe tbody tr th {\n",
       "        vertical-align: top;\n",
       "    }\n",
       "\n",
       "    .dataframe thead th {\n",
       "        text-align: right;\n",
       "    }\n",
       "</style>\n",
       "<table border=\"1\" class=\"dataframe\">\n",
       "  <thead>\n",
       "    <tr style=\"text-align: right;\">\n",
       "      <th></th>\n",
       "      <th>N</th>\n",
       "      <th>P</th>\n",
       "      <th>K</th>\n",
       "      <th>temperature</th>\n",
       "      <th>humidity</th>\n",
       "      <th>ph</th>\n",
       "      <th>rainfall</th>\n",
       "    </tr>\n",
       "  </thead>\n",
       "  <tbody>\n",
       "    <tr>\n",
       "      <th>count</th>\n",
       "      <td>6200.000000</td>\n",
       "      <td>6200.000000</td>\n",
       "      <td>6200.000000</td>\n",
       "      <td>6200.000000</td>\n",
       "      <td>6200.000000</td>\n",
       "      <td>6200.000000</td>\n",
       "      <td>6200.000000</td>\n",
       "    </tr>\n",
       "    <tr>\n",
       "      <th>mean</th>\n",
       "      <td>50.640033</td>\n",
       "      <td>54.138712</td>\n",
       "      <td>48.345986</td>\n",
       "      <td>25.576561</td>\n",
       "      <td>71.454560</td>\n",
       "      <td>6.459851</td>\n",
       "      <td>104.139526</td>\n",
       "    </tr>\n",
       "    <tr>\n",
       "      <th>std</th>\n",
       "      <td>36.491343</td>\n",
       "      <td>33.195819</td>\n",
       "      <td>51.283455</td>\n",
       "      <td>5.119407</td>\n",
       "      <td>22.040580</td>\n",
       "      <td>0.784864</td>\n",
       "      <td>54.930625</td>\n",
       "    </tr>\n",
       "    <tr>\n",
       "      <th>min</th>\n",
       "      <td>-71.677142</td>\n",
       "      <td>-61.438889</td>\n",
       "      <td>-142.639402</td>\n",
       "      <td>4.605613</td>\n",
       "      <td>-5.292684</td>\n",
       "      <td>3.504752</td>\n",
       "      <td>-94.424591</td>\n",
       "    </tr>\n",
       "    <tr>\n",
       "      <th>25%</th>\n",
       "      <td>24.000000</td>\n",
       "      <td>30.934859</td>\n",
       "      <td>18.874486</td>\n",
       "      <td>22.303279</td>\n",
       "      <td>57.540653</td>\n",
       "      <td>5.937202</td>\n",
       "      <td>66.286817</td>\n",
       "    </tr>\n",
       "    <tr>\n",
       "      <th>50%</th>\n",
       "      <td>46.635618</td>\n",
       "      <td>53.090230</td>\n",
       "      <td>40.400399</td>\n",
       "      <td>25.518655</td>\n",
       "      <td>74.172961</td>\n",
       "      <td>6.448785</td>\n",
       "      <td>101.027317</td>\n",
       "    </tr>\n",
       "    <tr>\n",
       "      <th>75%</th>\n",
       "      <td>78.259969</td>\n",
       "      <td>73.000000</td>\n",
       "      <td>73.611104</td>\n",
       "      <td>28.790072</td>\n",
       "      <td>87.630628</td>\n",
       "      <td>6.961958</td>\n",
       "      <td>138.959395</td>\n",
       "    </tr>\n",
       "    <tr>\n",
       "      <th>max</th>\n",
       "      <td>184.613666</td>\n",
       "      <td>174.762589</td>\n",
       "      <td>220.909164</td>\n",
       "      <td>44.273577</td>\n",
       "      <td>145.220605</td>\n",
       "      <td>9.935091</td>\n",
       "      <td>300.336462</td>\n",
       "    </tr>\n",
       "  </tbody>\n",
       "</table>\n",
       "</div>"
      ],
      "text/plain": [
       "                 N            P            K  temperature     humidity  \\\n",
       "count  6200.000000  6200.000000  6200.000000  6200.000000  6200.000000   \n",
       "mean     50.640033    54.138712    48.345986    25.576561    71.454560   \n",
       "std      36.491343    33.195819    51.283455     5.119407    22.040580   \n",
       "min     -71.677142   -61.438889  -142.639402     4.605613    -5.292684   \n",
       "25%      24.000000    30.934859    18.874486    22.303279    57.540653   \n",
       "50%      46.635618    53.090230    40.400399    25.518655    74.172961   \n",
       "75%      78.259969    73.000000    73.611104    28.790072    87.630628   \n",
       "max     184.613666   174.762589   220.909164    44.273577   145.220605   \n",
       "\n",
       "                ph     rainfall  \n",
       "count  6200.000000  6200.000000  \n",
       "mean      6.459851   104.139526  \n",
       "std       0.784864    54.930625  \n",
       "min       3.504752   -94.424591  \n",
       "25%       5.937202    66.286817  \n",
       "50%       6.448785   101.027317  \n",
       "75%       6.961958   138.959395  \n",
       "max       9.935091   300.336462  "
      ]
     },
     "execution_count": 9,
     "metadata": {},
     "output_type": "execute_result"
    }
   ],
   "source": [
    "# Numerical Stats (mean, min, max, count)\n",
    "crop.describe()"
   ]
  },
  {
   "cell_type": "code",
   "execution_count": 10,
   "id": "41070f91-88ec-4dad-9b00-ecdb8b8a12c2",
   "metadata": {},
   "outputs": [
    {
     "name": "stdout",
     "output_type": "stream",
     "text": [
      "N              float64\n",
      "P              float64\n",
      "K              float64\n",
      "temperature    float64\n",
      "humidity       float64\n",
      "ph             float64\n",
      "rainfall       float64\n",
      "label           object\n",
      "dtype: object\n"
     ]
    }
   ],
   "source": [
    "# Check the data types of each column to identify non-numeric columns\n",
    "print(crop.dtypes)"
   ]
  },
  {
   "cell_type": "code",
   "execution_count": 11,
   "id": "79835f02-f968-4f52-b06b-3d6d16425149",
   "metadata": {},
   "outputs": [],
   "source": [
    "# Drop non-numeric columns\n",
    "numeric_data = crop.select_dtypes(include=[float, int])"
   ]
  },
  {
   "cell_type": "code",
   "execution_count": 12,
   "id": "334e0842-11fc-47f6-bf4d-84dbd8ee9834",
   "metadata": {},
   "outputs": [
    {
     "data": {
      "text/plain": [
       "0"
      ]
     },
     "execution_count": 12,
     "metadata": {},
     "output_type": "execute_result"
    }
   ],
   "source": [
    "#Check for duplicate entries in dataset\n",
    "crop.duplicated().sum()"
   ]
  },
  {
   "cell_type": "code",
   "execution_count": 13,
   "id": "fbc6cb58-4f71-439e-9c69-a7424a40137a",
   "metadata": {},
   "outputs": [],
   "source": [
    "import matplotlib.pyplot as plt"
   ]
  },
  {
   "cell_type": "code",
   "execution_count": 14,
   "id": "34f9879e-1da6-45dd-9867-d3f8bb38b7eb",
   "metadata": {},
   "outputs": [
    {
     "name": "stderr",
     "output_type": "stream",
     "text": [
      "C:\\Users\\mehul\\AppData\\Local\\Temp\\ipykernel_10780\\1923187426.py:3: UserWarning: \n",
      "\n",
      "`distplot` is a deprecated function and will be removed in seaborn v0.14.0.\n",
      "\n",
      "Please adapt your code to use either `displot` (a figure-level function with\n",
      "similar flexibility) or `histplot` (an axes-level function for histograms).\n",
      "\n",
      "For a guide to updating your code to use the new functions, please see\n",
      "https://gist.github.com/mwaskom/de44147ed2974457ad6372750bbe5751\n",
      "\n",
      "  sns.distplot(crop['K'])\n",
      "E:\\Users\\mehul\\anaconda3\\Lib\\site-packages\\seaborn\\_oldcore.py:1119: FutureWarning: use_inf_as_na option is deprecated and will be removed in a future version. Convert inf values to NaN before operating instead.\n",
      "  with pd.option_context('mode.use_inf_as_na', True):\n"
     ]
    },
    {
     "data": {
      "image/png": "[encoded data removed]",
      "text/plain": [
       "<Figure size 640x480 with 1 Axes>"
      ]
     },
     "metadata": {},
     "output_type": "display_data"
    }
   ],
   "source": [
    "#distrubution plot representation wrt temperature \n",
    "\n",
    "sns.distplot(crop['K'])\n",
    "plt.show()"
   ]
  },
  {
   "cell_type": "code",
   "execution_count": 15,
   "id": "60c9ecc9-04c3-4d7c-8b4e-8d678ac62033",
   "metadata": {},
   "outputs": [],
   "source": [
    "# Encoding "
   ]
  },
  {
   "cell_type": "code",
   "execution_count": 16,
   "id": "7e02a629-d2eb-458b-8352-35895c38df5e",
   "metadata": {},
   "outputs": [
    {
     "name": "stdout",
     "output_type": "stream",
     "text": [
      "Average ratio of Nitrogen in Soil: 50.64\n",
      "Average ratio of Phosphorus in Soil: 54.14\n",
      "Average ratio of Potassium in Soil: 48.35\n",
      "Average ratio of Temperature in celcius: 25.58\n",
      "Average relative humdity in %: 71.45\n",
      "Average pH value of the Soil: 6.46\n",
      "Average rainfall in mm: 104.14\n"
     ]
    }
   ],
   "source": [
    "print(\"Average ratio of Nitrogen in Soil:{0: .2f}\".format(crop[\"N\"].mean()))\n",
    "#ratio_of_nitrogen = \"Ratio of Nitrogen in Soil: {:.2f}\".format(crop[\"N\"].mean())\n",
    "\n",
    "print(\"Average ratio of Phosphorus in Soil:{0: .2f}\".format(crop[\"P\"].mean()))\n",
    "\n",
    "print(\"Average ratio of Potassium in Soil:{0: .2f}\".format(crop[\"K\"].mean()))\n",
    "\n",
    "print(\"Average ratio of Temperature in celcius:{0: .2f}\".format(crop[\"temperature\"].mean()))\n",
    "\n",
    "print(\"Average relative humdity in %:{0: .2f}\".format(crop[\"humidity\"].mean()))\n",
    "\n",
    "print(\"Average pH value of the Soil:{0: .2f}\".format(crop[\"ph\"].mean()))\n",
    "\n",
    "print(\"Average rainfall in mm:{0: .2f}\".format(crop[\"rainfall\"].mean()))\n",
    "\n",
    "#print(ratio_of_nitrogen)\n",
    " # of Nitrogen in Soil:{0: ,2f}\".format(crop[\"N\"].mean()))"
   ]
  },
  {
   "cell_type": "code",
   "execution_count": 17,
   "id": "90e7a9e3-972e-48bd-8a25-edabb3a4f143",
   "metadata": {},
   "outputs": [
    {
     "name": "stdout",
     "output_type": "stream",
     "text": [
      "                     N                                 P             \\\n",
      "                   min       mean         max        min       mean   \n",
      "label                                                                 \n",
      "apple       -46.626831  40.693712  141.609734 -41.789771  81.630454   \n",
      "banana      -71.677142  66.056424  137.539761 -33.588223  67.136211   \n",
      "blackgram   -41.943244  48.147736  155.075338 -40.584654  58.881257   \n",
      "chickpea    -31.925037  49.752672  142.318679 -59.564292  57.446687   \n",
      "coconut     -71.081995  42.687473  181.448602 -13.049457  42.287054   \n",
      "coffee      -52.958794  64.810368  138.805261 -42.556541  45.510756   \n",
      "cotton      -47.038186  77.325590  140.000000 -37.717618  49.677913   \n",
      "grapes      -65.729336  42.082742  162.310645 -24.561292  82.508434   \n",
      "jute        -40.754599  61.126917  141.893719 -25.365028  49.069236   \n",
      "kidneybeans -69.600058  39.646025  164.022632 -31.506436  59.433390   \n",
      "lentil      -35.890888  38.897426  172.060973 -47.062852  60.227215   \n",
      "maize       -23.661123  59.729047  175.097958 -33.633732  52.467472   \n",
      "mango       -40.982513  38.482418  133.011522 -20.415526  46.214226   \n",
      "mothbeans   -43.882690  38.935296  148.951893 -61.438889  52.201203   \n",
      "mungbean    -28.442470  42.913807  143.971800 -53.701713  51.914266   \n",
      "muskmelon   -61.763459  65.965230  135.925878 -36.238442  41.498563   \n",
      "orange      -56.721283  41.746260  184.613666 -35.974584  41.034446   \n",
      "papaya      -35.387206  50.048881  117.079460  -5.372619  57.303683   \n",
      "pigeonpeas  -63.040849  41.033378  143.869269 -21.773282  58.216101   \n",
      "pomegranate -46.213178  38.279245  155.852693 -32.278689  42.864417   \n",
      "rice        -29.066691  61.844626  176.784016 -17.030103  54.620423   \n",
      "watermelon  -41.736086  67.210565  154.485110 -33.833127  40.273987   \n",
      "\n",
      "                                  K                         temperature  ...  \\\n",
      "                    max         min        mean         max         min  ...   \n",
      "label                                                                    ...   \n",
      "apple        174.762589  -94.698145  105.539337  212.669932   11.163859  ...   \n",
      "banana       168.806540  -76.278138   50.947801  198.126280   12.714534  ...   \n",
      "blackgram    148.958348  -74.718164   38.940302  196.449536   11.824094  ...   \n",
      "chickpea     140.369955 -118.595169   58.380873  166.842377   14.602185  ...   \n",
      "coconut      134.732057  -74.108067   44.016136  220.362449   11.196547  ...   \n",
      "coffee       159.404932  -80.536766   44.330063  220.274252   16.194809  ...   \n",
      "cotton       154.483667  -80.836617   35.305779  176.578466    9.174053  ...   \n",
      "grapes       145.000000  -77.110581  103.095043  205.000000    8.825675  ...   \n",
      "jute         140.265873  -94.306543   43.475630  172.211598   13.135599  ...   \n",
      "kidneybeans  150.532507  -68.484279   42.001864  186.371992    8.034031  ...   \n",
      "lentil       123.991167  -77.695228   41.486418  199.662318    4.605613  ...   \n",
      "maize        153.635996 -101.377309   38.799246  187.693521    9.499009  ...   \n",
      "mango        139.715164  -59.564324   46.554399  220.745204   10.606474  ...   \n",
      "mothbeans    168.028545  -72.157113   37.364137  165.356359   14.138035  ...   \n",
      "mungbean     145.532938 -117.177570   36.945198  220.909164   10.942367  ...   \n",
      "muskmelon    151.675434 -142.639402   46.551236  180.229263   14.680456  ...   \n",
      "orange       148.452742  -89.386919   30.147259  176.617535    9.547954  ...   \n",
      "papaya       138.023058  -81.830363   48.263787  146.723163   12.141517  ...   \n",
      "pigeonpeas   158.717581  -84.587596   41.049060  187.860553   15.006451  ...   \n",
      "pomegranate  149.027878  -89.616537   41.505325  185.544755   11.776536  ...   \n",
      "rice         136.368217  -55.179551   45.171109  198.490450   13.295277  ...   \n",
      "watermelon   148.422673 -127.254742   46.949058  200.786471    8.897825  ...   \n",
      "\n",
      "                         humidity                               ph            \\\n",
      "                   max        min       mean         max       min      mean   \n",
      "label                                                                          \n",
      "apple        38.894262  14.918394  79.631902  122.287323  4.499886  6.282370   \n",
      "banana       39.353917  20.287650  74.274743  134.008490  4.209248  6.306361   \n",
      "blackgram    40.746085  11.324674  68.476100  133.375830  4.490098  6.746172   \n",
      "chickpea     38.843857   3.195176  52.562748  137.910222  4.186643  6.724402   \n",
      "coconut      42.483166   4.981785  80.085335  123.863201  4.015423  6.298480   \n",
      "coffee       41.117067  12.331772  65.494614  114.720347  4.254460  6.546997   \n",
      "cotton       38.965345  19.000319  73.630545  120.413538  4.658130  6.694712   \n",
      "grapes       41.948657  15.692422  76.900068  131.677632  4.332074  6.340194   \n",
      "jute         40.331016   2.185725  74.228992  121.254354  4.423542  6.549196   \n",
      "kidneybeans  41.918253  18.092240  56.647476  132.610315  4.674371  6.196240   \n",
      "lentil       42.305394   3.796811  69.159818  132.748994  3.769903  6.624323   \n",
      "maize        37.065408  19.794620  69.159047  145.220605  4.197666  6.318023   \n",
      "mango        40.578426  10.860192  63.820578  127.254829  4.507524  6.222386   \n",
      "mothbeans    40.634832  14.973354  64.658197  117.372163  3.504752  6.549462   \n",
      "mungbean     36.932198   2.446318  77.156504  127.648125  4.467093  6.564592   \n",
      "muskmelon    39.246444  -5.292684  79.582062  134.680284  4.018045  6.414368   \n",
      "orange       42.460513  28.673461  79.267847  132.043537  4.710379  6.686799   \n",
      "papaya       43.675493  10.851676  78.915597  141.555933  4.663820  6.559351   \n",
      "pigeonpeas   37.619786  16.153798  63.375726  133.992952  3.923803  6.257325   \n",
      "pomegranate  39.002616   2.869857  78.415212  116.890093  4.789442  6.458244   \n",
      "rice         40.903816  11.849559  75.676344  126.944450  4.031768  6.422375   \n",
      "watermelon   44.273577   7.450083  72.530927  127.891241  4.353191  6.403429   \n",
      "\n",
      "                        rainfall                          \n",
      "                  max        min        mean         max  \n",
      "label                                                     \n",
      "apple        8.289107 -38.819708  105.308730  228.253551  \n",
      "banana       8.211879 -53.202102  101.456909  241.888208  \n",
      "blackgram    9.031079 -52.598634   93.063219  300.336462  \n",
      "chickpea     8.868741  -8.934986   95.959391  241.015177  \n",
      "coconut      9.418082 -39.846750  131.815707  254.104249  \n",
      "coffee       9.207594 -14.268316  125.579715  244.958301  \n",
      "cotton       8.253530 -31.904954   96.479009  229.187921  \n",
      "grapes       8.445886 -66.644103   91.053511  259.093713  \n",
      "jute         8.702486 -26.912930  131.507643  256.209323  \n",
      "kidneybeans  8.606781 -37.841560  105.375194  244.000585  \n",
      "lentil       8.466371 -59.084755   82.282433  227.873978  \n",
      "maize        8.223201 -33.392072   94.654888  223.309457  \n",
      "mango        8.735571 -57.384411  103.675160  251.426441  \n",
      "mothbeans    9.935091 -21.998257   86.024889  248.160301  \n",
      "mungbean     9.041273 -65.950485   81.601752  226.902884  \n",
      "muskmelon    8.365204 -61.798962   75.293717  270.482731  \n",
      "orange       8.506590 -74.868481  106.730774  262.577603  \n",
      "papaya       8.135129 -94.424591  117.816969  264.754063  \n",
      "pigeonpeas   8.707870 -55.651727  119.326976  246.429502  \n",
      "pomegranate  8.300941 -69.631027  106.121116  261.025196  \n",
      "rice         8.147970 -20.653450  156.693606  298.560117  \n",
      "watermelon   8.521364 -10.080136   85.694805  228.918915  \n",
      "\n",
      "[22 rows x 21 columns]\n"
     ]
    }
   ],
   "source": [
    "# Summary Statistics for each of the Crop\n",
    "# Group by 'label' and calculate summary statistics\n",
    "summary_stats = crop.groupby('label').agg({\n",
    "    'N': ['min', 'mean', 'max'],\n",
    "    'P': ['min', 'mean', 'max'],\n",
    "    'K': ['min', 'mean', 'max'],\n",
    "    'temperature': ['min', 'mean', 'max'],\n",
    "    'humidity': ['min', 'mean', 'max'],\n",
    "    'ph': ['min', 'mean', 'max'],\n",
    "    'rainfall': ['min', 'mean', 'max']\n",
    "})\n",
    "\n",
    "print(summary_stats)"
   ]
  },
  {
   "cell_type": "code",
   "execution_count": 18,
   "id": "758eb4f9-0a3e-452f-9eb4-83a22781edb7",
   "metadata": {},
   "outputs": [],
   "source": [
    "from sklearn.preprocessing import MinMaxScaler"
   ]
  },
  {
   "cell_type": "code",
   "execution_count": 19,
   "id": "0bc7773a-3f35-43ff-a7cd-de81f6c59eaf",
   "metadata": {},
   "outputs": [
    {
     "name": "stdout",
     "output_type": "stream",
     "text": [
      "          N         P         K  temperature  humidity        ph  rainfall  \\\n",
      "0  0.424038  0.387122  0.485876     0.578136  0.391515  0.512108  0.490876   \n",
      "1  0.461241  0.407787  0.641933     0.533631  0.563977  0.462295  0.456707   \n",
      "2  0.343908  0.706471  0.584549     0.563956  0.712859  0.555486  0.409335   \n",
      "3  0.569090  0.208976  0.450907     0.747816  0.422178  0.494802  0.630824   \n",
      "4  0.440033  0.302950  0.495390     0.646800  0.522058  0.351748  0.669598   \n",
      "\n",
      "       label  \n",
      "0      mango  \n",
      "1      apple  \n",
      "2  muskmelon  \n",
      "3      apple  \n",
      "4       jute  \n"
     ]
    }
   ],
   "source": [
    "# Separate the label column from the features\n",
    "\n",
    "\n",
    "labels = crop['label']  #'label' is the column I want to exclude from my scaling\n",
    "features = crop.drop(columns=['label'])\n",
    "\n",
    "# Initialize the MinMaxScaler\n",
    "scaler = MinMaxScaler()\n",
    "\n",
    "# Fit the scaler to the features and transform them\n",
    "scaled_features = scaler.fit_transform(features)\n",
    "\n",
    "# Convert the scaled features back to a DataFrame\n",
    "scaled_crop = pd.DataFrame(scaled_features, columns=features.columns)\n",
    "\n",
    "# Add the label column back to the scaled DataFrame\n",
    "scaled_crop['label'] = labels\n",
    "\n",
    "\n",
    "print(scaled_crop.head())"
   ]
  },
  {
   "cell_type": "code",
   "execution_count": 20,
   "id": "7f39f13d-5aad-4161-a373-9420cf63b36e",
   "metadata": {},
   "outputs": [],
   "source": [
    "scaled_crop.to_csv(\"scaled_final_crop.csv\", index=False)"
   ]
  },
  {
   "cell_type": "code",
   "execution_count": 21,
   "id": "f0961f6d-1d15-4430-b19a-06c7170d9719",
   "metadata": {},
   "outputs": [
    {
     "data": {
      "text/plain": [
       "array(['mango', 'apple', 'muskmelon', 'jute', 'cotton', 'grapes',\n",
       "       'kidneybeans', 'mungbean', 'papaya', 'blackgram', 'coconut',\n",
       "       'pomegranate', 'orange', 'banana', 'chickpea', 'watermelon',\n",
       "       'rice', 'pigeonpeas', 'maize', 'lentil', 'coffee', 'mothbeans'],\n",
       "      dtype=object)"
      ]
     },
     "execution_count": 21,
     "metadata": {},
     "output_type": "execute_result"
    }
   ],
   "source": [
    "crop['label'].unique()"
   ]
  },
  {
   "cell_type": "code",
   "execution_count": 22,
   "id": "f308cfb0-3d03-4105-b715-6daee617e9ad",
   "metadata": {},
   "outputs": [
    {
     "data": {
      "text/plain": [
       "22"
      ]
     },
     "execution_count": 22,
     "metadata": {},
     "output_type": "execute_result"
    }
   ],
   "source": [
    "crop['label'].unique().size"
   ]
  },
  {
   "cell_type": "code",
   "execution_count": 23,
   "id": "6ab37428-5a32-41b5-975b-8f6314ac8103",
   "metadata": {},
   "outputs": [
    {
     "name": "stderr",
     "output_type": "stream",
     "text": [
      "C:\\Users\\mehul\\AppData\\Local\\Temp\\ipykernel_10780\\3669751595.py:1: UserWarning: \n",
      "\n",
      "`distplot` is a deprecated function and will be removed in seaborn v0.14.0.\n",
      "\n",
      "Please adapt your code to use either `displot` (a figure-level function with\n",
      "similar flexibility) or `histplot` (an axes-level function for histograms).\n",
      "\n",
      "For a guide to updating your code to use the new functions, please see\n",
      "https://gist.github.com/mwaskom/de44147ed2974457ad6372750bbe5751\n",
      "\n",
      "  sns.distplot(crop['N'])\n",
      "E:\\Users\\mehul\\anaconda3\\Lib\\site-packages\\seaborn\\_oldcore.py:1119: FutureWarning: use_inf_as_na option is deprecated and will be removed in a future version. Convert inf values to NaN before operating instead.\n",
      "  with pd.option_context('mode.use_inf_as_na', True):\n"
     ]
    },
    {
     "data": {
      "image/png": "[encoded data removed]",
      "text/plain": [
       "<Figure size 640x480 with 1 Axes>"
      ]
     },
     "metadata": {},
     "output_type": "display_data"
    }
   ],
   "source": [
    "sns.distplot(crop['N'])\n",
    "plt.show()"
   ]
  },
  {
   "cell_type": "code",
   "execution_count": 24,
   "id": "7cb86cb3-0615-4deb-a8b8-c070726692e7",
   "metadata": {},
   "outputs": [],
   "source": [
    "crop_dict = {\n",
    "    'rice' : 1,\n",
    "    'maize' : 2,\n",
    "    'jute' : 3,\n",
    "    'cotton' : 4,\n",
    "    'coconut' : 5,\n",
    "    'papaya' : 6,\n",
    "    'orange' : 7,\n",
    "    'apple' : 8,\n",
    "    'muskmelon' : 9,\n",
    "    'watermelon' : 10,\n",
    "    'grapes' : 11,\n",
    "    'mango' : 12,\n",
    "    'banana' : 13,\n",
    "    'pomegranate' : 14,\n",
    "    'lentil' : 15,\n",
    "    'blackgram' : 16,\n",
    "    'mungbean' : 17,\n",
    "    'mothbeans' : 18,\n",
    "    'pigeonpeas' : 19,\n",
    "    'kidneybeans' : 20,\n",
    "    'chickpea' : 21,\n",
    "    'coffee' : 22,\n",
    "}   \n",
    "\n",
    "crop['label'] = crop['label'].map(crop_dict)"
   ]
  },
  {
   "cell_type": "code",
   "execution_count": 25,
   "id": "45bdbf8c-63d5-45fc-ad9e-5c9176278175",
   "metadata": {},
   "outputs": [
    {
     "data": {
      "text/html": [
       "<div>\n",
       "<style scoped>\n",
       "    .dataframe tbody tr th:only-of-type {\n",
       "        vertical-align: middle;\n",
       "    }\n",
       "\n",
       "    .dataframe tbody tr th {\n",
       "        vertical-align: top;\n",
       "    }\n",
       "\n",
       "    .dataframe thead th {\n",
       "        text-align: right;\n",
       "    }\n",
       "</style>\n",
       "<table border=\"1\" class=\"dataframe\">\n",
       "  <thead>\n",
       "    <tr style=\"text-align: right;\">\n",
       "      <th></th>\n",
       "      <th>N</th>\n",
       "      <th>P</th>\n",
       "      <th>K</th>\n",
       "      <th>temperature</th>\n",
       "      <th>humidity</th>\n",
       "      <th>ph</th>\n",
       "      <th>rainfall</th>\n",
       "      <th>label</th>\n",
       "    </tr>\n",
       "  </thead>\n",
       "  <tbody>\n",
       "    <tr>\n",
       "      <th>0</th>\n",
       "      <td>37.000000</td>\n",
       "      <td>30.000000</td>\n",
       "      <td>34.000000</td>\n",
       "      <td>27.539075</td>\n",
       "      <td>53.635495</td>\n",
       "      <td>6.797779</td>\n",
       "      <td>99.354082</td>\n",
       "      <td>12</td>\n",
       "    </tr>\n",
       "    <tr>\n",
       "      <th>1</th>\n",
       "      <td>46.534638</td>\n",
       "      <td>34.880990</td>\n",
       "      <td>90.734325</td>\n",
       "      <td>25.773682</td>\n",
       "      <td>79.593288</td>\n",
       "      <td>6.477466</td>\n",
       "      <td>85.865569</td>\n",
       "      <td>8</td>\n",
       "    </tr>\n",
       "    <tr>\n",
       "      <th>2</th>\n",
       "      <td>16.463391</td>\n",
       "      <td>105.430706</td>\n",
       "      <td>69.872653</td>\n",
       "      <td>26.976619</td>\n",
       "      <td>102.002123</td>\n",
       "      <td>7.076716</td>\n",
       "      <td>67.165085</td>\n",
       "      <td>9</td>\n",
       "    </tr>\n",
       "    <tr>\n",
       "      <th>3</th>\n",
       "      <td>74.175425</td>\n",
       "      <td>-12.078425</td>\n",
       "      <td>21.287024</td>\n",
       "      <td>34.269941</td>\n",
       "      <td>58.250688</td>\n",
       "      <td>6.686496</td>\n",
       "      <td>154.600288</td>\n",
       "      <td>8</td>\n",
       "    </tr>\n",
       "    <tr>\n",
       "      <th>4</th>\n",
       "      <td>41.099239</td>\n",
       "      <td>10.118283</td>\n",
       "      <td>37.458900</td>\n",
       "      <td>30.262871</td>\n",
       "      <td>73.284020</td>\n",
       "      <td>5.766613</td>\n",
       "      <td>169.906773</td>\n",
       "      <td>3</td>\n",
       "    </tr>\n",
       "  </tbody>\n",
       "</table>\n",
       "</div>"
      ],
      "text/plain": [
       "           N           P          K  temperature    humidity        ph  \\\n",
       "0  37.000000   30.000000  34.000000    27.539075   53.635495  6.797779   \n",
       "1  46.534638   34.880990  90.734325    25.773682   79.593288  6.477466   \n",
       "2  16.463391  105.430706  69.872653    26.976619  102.002123  7.076716   \n",
       "3  74.175425  -12.078425  21.287024    34.269941   58.250688  6.686496   \n",
       "4  41.099239   10.118283  37.458900    30.262871   73.284020  5.766613   \n",
       "\n",
       "     rainfall  label  \n",
       "0   99.354082     12  \n",
       "1   85.865569      8  \n",
       "2   67.165085      9  \n",
       "3  154.600288      8  \n",
       "4  169.906773      3  "
      ]
     },
     "execution_count": 25,
     "metadata": {},
     "output_type": "execute_result"
    }
   ],
   "source": [
    "crop.head()"
   ]
  },
  {
   "cell_type": "code",
   "execution_count": 26,
   "id": "8c11e4e1-9efe-45e7-a0a7-199e92858f4d",
   "metadata": {},
   "outputs": [
    {
     "data": {
      "text/plain": [
       "array([12,  8,  9,  3,  4, 11, 20, 17,  6, 16,  5, 14,  7, 13, 21, 10,  1,\n",
       "       19,  2, 15, 22, 18], dtype=int64)"
      ]
     },
     "execution_count": 26,
     "metadata": {},
     "output_type": "execute_result"
    }
   ],
   "source": [
    "crop['label'].unique()"
   ]
  },
  {
   "cell_type": "code",
   "execution_count": 27,
   "id": "7d228afc-d830-4454-a8a6-e52f395de005",
   "metadata": {},
   "outputs": [],
   "source": [
    "X = crop.drop('label', axis = 1)\n",
    "Y = crop['label']"
   ]
  },
  {
   "cell_type": "code",
   "execution_count": 28,
   "id": "1269fc14-14ac-40c6-8151-3896db3b1aaf",
   "metadata": {},
   "outputs": [
    {
     "data": {
      "text/html": [
       "<div>\n",
       "<style scoped>\n",
       "    .dataframe tbody tr th:only-of-type {\n",
       "        vertical-align: middle;\n",
       "    }\n",
       "\n",
       "    .dataframe tbody tr th {\n",
       "        vertical-align: top;\n",
       "    }\n",
       "\n",
       "    .dataframe thead th {\n",
       "        text-align: right;\n",
       "    }\n",
       "</style>\n",
       "<table border=\"1\" class=\"dataframe\">\n",
       "  <thead>\n",
       "    <tr style=\"text-align: right;\">\n",
       "      <th></th>\n",
       "      <th>N</th>\n",
       "      <th>P</th>\n",
       "      <th>K</th>\n",
       "      <th>temperature</th>\n",
       "      <th>humidity</th>\n",
       "      <th>ph</th>\n",
       "      <th>rainfall</th>\n",
       "    </tr>\n",
       "  </thead>\n",
       "  <tbody>\n",
       "    <tr>\n",
       "      <th>0</th>\n",
       "      <td>37.000000</td>\n",
       "      <td>30.000000</td>\n",
       "      <td>34.000000</td>\n",
       "      <td>27.539075</td>\n",
       "      <td>53.635495</td>\n",
       "      <td>6.797779</td>\n",
       "      <td>99.354082</td>\n",
       "    </tr>\n",
       "    <tr>\n",
       "      <th>1</th>\n",
       "      <td>46.534638</td>\n",
       "      <td>34.880990</td>\n",
       "      <td>90.734325</td>\n",
       "      <td>25.773682</td>\n",
       "      <td>79.593288</td>\n",
       "      <td>6.477466</td>\n",
       "      <td>85.865569</td>\n",
       "    </tr>\n",
       "    <tr>\n",
       "      <th>2</th>\n",
       "      <td>16.463391</td>\n",
       "      <td>105.430706</td>\n",
       "      <td>69.872653</td>\n",
       "      <td>26.976619</td>\n",
       "      <td>102.002123</td>\n",
       "      <td>7.076716</td>\n",
       "      <td>67.165085</td>\n",
       "    </tr>\n",
       "    <tr>\n",
       "      <th>3</th>\n",
       "      <td>74.175425</td>\n",
       "      <td>-12.078425</td>\n",
       "      <td>21.287024</td>\n",
       "      <td>34.269941</td>\n",
       "      <td>58.250688</td>\n",
       "      <td>6.686496</td>\n",
       "      <td>154.600288</td>\n",
       "    </tr>\n",
       "    <tr>\n",
       "      <th>4</th>\n",
       "      <td>41.099239</td>\n",
       "      <td>10.118283</td>\n",
       "      <td>37.458900</td>\n",
       "      <td>30.262871</td>\n",
       "      <td>73.284020</td>\n",
       "      <td>5.766613</td>\n",
       "      <td>169.906773</td>\n",
       "    </tr>\n",
       "  </tbody>\n",
       "</table>\n",
       "</div>"
      ],
      "text/plain": [
       "           N           P          K  temperature    humidity        ph  \\\n",
       "0  37.000000   30.000000  34.000000    27.539075   53.635495  6.797779   \n",
       "1  46.534638   34.880990  90.734325    25.773682   79.593288  6.477466   \n",
       "2  16.463391  105.430706  69.872653    26.976619  102.002123  7.076716   \n",
       "3  74.175425  -12.078425  21.287024    34.269941   58.250688  6.686496   \n",
       "4  41.099239   10.118283  37.458900    30.262871   73.284020  5.766613   \n",
       "\n",
       "     rainfall  \n",
       "0   99.354082  \n",
       "1   85.865569  \n",
       "2   67.165085  \n",
       "3  154.600288  \n",
       "4  169.906773  "
      ]
     },
     "execution_count": 28,
     "metadata": {},
     "output_type": "execute_result"
    }
   ],
   "source": [
    "X.head()"
   ]
  },
  {
   "cell_type": "code",
   "execution_count": 29,
   "id": "bd8f31b9-11a4-45c8-a182-b30d456ed6fb",
   "metadata": {},
   "outputs": [
    {
     "data": {
      "text/plain": [
       "0    12\n",
       "1     8\n",
       "2     9\n",
       "3     8\n",
       "4     3\n",
       "Name: label, dtype: int64"
      ]
     },
     "execution_count": 29,
     "metadata": {},
     "output_type": "execute_result"
    }
   ],
   "source": [
    "Y.head()"
   ]
  },
  {
   "cell_type": "code",
   "execution_count": 30,
   "id": "89ea615c-2cc0-4552-853a-52e8029ff347",
   "metadata": {},
   "outputs": [],
   "source": [
    "from sklearn.model_selection import train_test_split\n",
    "X_train, X_test, Y_train, Y_test = train_test_split(X, Y, test_size = 0.2, random_state = 42)"
   ]
  },
  {
   "cell_type": "code",
   "execution_count": 31,
   "id": "1cadbcdf-50b6-46ed-9746-fdb95251dd40",
   "metadata": {},
   "outputs": [
    {
     "data": {
      "text/plain": [
       "(4960, 7)"
      ]
     },
     "execution_count": 31,
     "metadata": {},
     "output_type": "execute_result"
    }
   ],
   "source": [
    "X_train.shape"
   ]
  },
  {
   "cell_type": "code",
   "execution_count": 32,
   "id": "4da65eeb-1280-44ef-977f-aaeec795aa2f",
   "metadata": {},
   "outputs": [],
   "source": [
    "from sklearn.preprocessing import MinMaxScaler\n",
    "mx = MinMaxScaler()\n",
    "X_train = mx.fit_transform(X_train)\n",
    "X_test = mx.transform(X_test)"
   ]
  },
  {
   "cell_type": "code",
   "execution_count": 33,
   "id": "50b11e80-05a7-4b4a-a380-81d5f36ca1c6",
   "metadata": {},
   "outputs": [
    {
     "data": {
      "text/plain": [
       "array([[0.37008145, 0.48873059, 0.44736637, ..., 0.59084953, 0.49531963,\n",
       "        0.34308786],\n",
       "       [0.37403205, 0.41675814, 0.45836903, ..., 0.32899384, 0.69780933,\n",
       "        0.3252166 ],\n",
       "       [0.54278036, 0.36788283, 0.36270803, ..., 0.43990067, 0.37884942,\n",
       "        0.20116123],\n",
       "       ...,\n",
       "       [0.29005415, 0.43943651, 0.655517  , ..., 0.516363  , 0.34375681,\n",
       "        0.54952739],\n",
       "       [0.67723265, 0.67703949, 0.52245973, ..., 0.56706506, 0.4514498 ,\n",
       "        0.37327487],\n",
       "       [0.43133046, 0.46542402, 0.45085745, ..., 0.2380061 , 0.43548   ,\n",
       "        0.73822507]])"
      ]
     },
     "execution_count": 33,
     "metadata": {},
     "output_type": "execute_result"
    }
   ],
   "source": [
    "X_train"
   ]
  },
  {
   "cell_type": "code",
   "execution_count": 34,
   "id": "b9686925-8f72-40f8-ba25-339294bfedf7",
   "metadata": {},
   "outputs": [],
   "source": [
    "from sklearn.preprocessing import StandardScaler\n",
    "sc = StandardScaler()\n",
    "sc.fit(X_train)\n",
    "X_train = sc.transform(X_train)\n",
    "X_test = sc.transform(X_test)"
   ]
  },
  {
   "cell_type": "code",
   "execution_count": 35,
   "id": "7acfc90a-ad3c-4bdd-a1e2-34acef946bb0",
   "metadata": {},
   "outputs": [
    {
     "name": "stdout",
     "output_type": "stream",
     "text": [
      "Requirement already satisfied: scikit-learn in e:\\users\\mehul\\anaconda3\\lib\\site-packages (1.5.2)\n",
      "Requirement already satisfied: numpy>=1.19.5 in e:\\users\\mehul\\anaconda3\\lib\\site-packages (from scikit-learn) (1.26.4)\n",
      "Requirement already satisfied: scipy>=1.6.0 in e:\\users\\mehul\\anaconda3\\lib\\site-packages (from scikit-learn) (1.11.4)\n",
      "Requirement already satisfied: joblib>=1.2.0 in e:\\users\\mehul\\anaconda3\\lib\\site-packages (from scikit-learn) (1.2.0)\n",
      "Requirement already satisfied: threadpoolctl>=3.1.0 in e:\\users\\mehul\\anaconda3\\lib\\site-packages (from scikit-learn) (3.5.0)\n"
     ]
    }
   ],
   "source": [
    "!pip install --upgrade scikit-learn"
   ]
  },
  {
   "cell_type": "code",
   "execution_count": 36,
   "id": "68bcf733-8884-48ce-a63f-d2b855056b13",
   "metadata": {},
   "outputs": [],
   "source": [
    "from sklearn.linear_model import LogisticRegression\n",
    "from sklearn.naive_bayes import GaussianNB\n",
    "from sklearn.svm import SVC\n",
    "from sklearn.neighbors import KNeighborsClassifier\n",
    "from sklearn.tree import DecisionTreeClassifier, ExtraTreeClassifier\n",
    "from sklearn.ensemble import RandomForestClassifier, BaggingClassifier, GradientBoostingClassifier, AdaBoostClassifier\n",
    "from sklearn.metrics import accuracy_score"
   ]
  },
  {
   "cell_type": "code",
   "execution_count": 37,
   "id": "855280b1-ea51-4f8d-be5d-fdc68b8d2e20",
   "metadata": {},
   "outputs": [],
   "source": [
    "models = {\n",
    "    'LogisticRegression': LogisticRegression(),\n",
    "    'GaussianNB': GaussianNB(),\n",
    "    'SVC': SVC(),\n",
    "    'KNeighborsClassifier': KNeighborsClassifier(),\n",
    "    'DecisionTreeClassifier': DecisionTreeClassifier(),\n",
    "    'ExtraTreeClassifier': ExtraTreeClassifier(),\n",
    "    'RandomForestClassifier': RandomForestClassifier(),\n",
    "    'BaggingClassifier': BaggingClassifier(),\n",
    "    'GradientBoostingClassifier': GradientBoostingClassifier(),\n",
    "    'AdaBoostClassifier': AdaBoostClassifier(),\n",
    "}"
   ]
  },
  {
   "cell_type": "code",
   "execution_count": 38,
   "id": "6131719f-44f8-422d-a00e-eccac08baeb2",
   "metadata": {},
   "outputs": [
    {
     "name": "stdout",
     "output_type": "stream",
     "text": [
      "LogisticRegression model with accuracy: 0.31370967741935485\n",
      "GaussianNB model with accuracy: 0.34596774193548385\n",
      "SVC model with accuracy: 0.37661290322580643\n",
      "KNeighborsClassifier model with accuracy: 0.38548387096774195\n",
      "DecisionTreeClassifier model with accuracy: 0.36612903225806454\n",
      "ExtraTreeClassifier model with accuracy: 0.3008064516129032\n",
      "RandomForestClassifier model with accuracy: 0.3935483870967742\n",
      "BaggingClassifier model with accuracy: 0.3919354838709677\n",
      "GradientBoostingClassifier model with accuracy: 0.38387096774193546\n"
     ]
    },
    {
     "name": "stderr",
     "output_type": "stream",
     "text": [
      "E:\\Users\\mehul\\anaconda3\\Lib\\site-packages\\sklearn\\ensemble\\_weight_boosting.py:527: FutureWarning: The SAMME.R algorithm (the default) is deprecated and will be removed in 1.6. Use the SAMME algorithm to circumvent this warning.\n",
      "  warnings.warn(\n"
     ]
    },
    {
     "name": "stdout",
     "output_type": "stream",
     "text": [
      "AdaBoostClassifier model with accuracy: 0.3024193548387097\n"
     ]
    }
   ],
   "source": [
    "for name, model in models.items(): \n",
    "    model.fit(X_train, Y_train)\n",
    "    Y_pred = model.predict(X_test)\n",
    "    score = accuracy_score(Y_test, Y_pred)\n",
    "    print(f\"{name} model with accuracy: {score}\")"
   ]
  },
  {
   "cell_type": "code",
   "execution_count": 39,
   "id": "5d94c8c1-b2b0-4ef6-b4d6-458bc1383b34",
   "metadata": {},
   "outputs": [
    {
     "data": {
      "text/plain": [
       "0.3870967741935484"
      ]
     },
     "execution_count": 39,
     "metadata": {},
     "output_type": "execute_result"
    }
   ],
   "source": [
    "randclf = RandomForestClassifier()\n",
    "randclf.fit(X_train, Y_train)\n",
    "Y_pred = randclf.predict(X_test)\n",
    "accuracy_score(Y_test, Y_pred)"
   ]
  },
  {
   "cell_type": "code",
   "execution_count": 40,
   "id": "806f1cfb-49d0-45e5-b604-eb99c126311f",
   "metadata": {},
   "outputs": [
    {
     "data": {
      "text/plain": [
       "Index(['N', 'P', 'K', 'temperature', 'humidity', 'ph', 'rainfall', 'label'], dtype='object')"
      ]
     },
     "execution_count": 40,
     "metadata": {},
     "output_type": "execute_result"
    }
   ],
   "source": [
    "crop.columns"
   ]
  },
  {
   "cell_type": "code",
   "execution_count": 41,
   "id": "3ee86a47-fdab-4f35-b2f0-667c7fd48f57",
   "metadata": {},
   "outputs": [],
   "source": [
    "def recommendation(N,P,K,temperature,humidity,ph,rainfall):\n",
    "    features = np.array([[N,P,K,temperature,humidity,ph,rainfall]])\n",
    "    mx_features = mx.fit_transform(features)\n",
    "    sc_mx_features = sc.fit_transform(mx_features)\n",
    "    prediction = randclf.predict(sc_mx_features).reshape(1,-1)\n",
    "    return prediction[0]"
   ]
  },
  {
   "cell_type": "code",
   "execution_count": 42,
   "id": "653819ab-ebc4-4460-998b-3c6cb43985c4",
   "metadata": {},
   "outputs": [
    {
     "data": {
      "text/html": [
       "<div>\n",
       "<style scoped>\n",
       "    .dataframe tbody tr th:only-of-type {\n",
       "        vertical-align: middle;\n",
       "    }\n",
       "\n",
       "    .dataframe tbody tr th {\n",
       "        vertical-align: top;\n",
       "    }\n",
       "\n",
       "    .dataframe thead th {\n",
       "        text-align: right;\n",
       "    }\n",
       "</style>\n",
       "<table border=\"1\" class=\"dataframe\">\n",
       "  <thead>\n",
       "    <tr style=\"text-align: right;\">\n",
       "      <th></th>\n",
       "      <th>N</th>\n",
       "      <th>P</th>\n",
       "      <th>K</th>\n",
       "      <th>temperature</th>\n",
       "      <th>humidity</th>\n",
       "      <th>ph</th>\n",
       "      <th>rainfall</th>\n",
       "      <th>label</th>\n",
       "    </tr>\n",
       "  </thead>\n",
       "  <tbody>\n",
       "    <tr>\n",
       "      <th>0</th>\n",
       "      <td>37.000000</td>\n",
       "      <td>30.000000</td>\n",
       "      <td>34.000000</td>\n",
       "      <td>27.539075</td>\n",
       "      <td>53.635495</td>\n",
       "      <td>6.797779</td>\n",
       "      <td>99.354082</td>\n",
       "      <td>12</td>\n",
       "    </tr>\n",
       "    <tr>\n",
       "      <th>1</th>\n",
       "      <td>46.534638</td>\n",
       "      <td>34.880990</td>\n",
       "      <td>90.734325</td>\n",
       "      <td>25.773682</td>\n",
       "      <td>79.593288</td>\n",
       "      <td>6.477466</td>\n",
       "      <td>85.865569</td>\n",
       "      <td>8</td>\n",
       "    </tr>\n",
       "    <tr>\n",
       "      <th>2</th>\n",
       "      <td>16.463391</td>\n",
       "      <td>105.430706</td>\n",
       "      <td>69.872653</td>\n",
       "      <td>26.976619</td>\n",
       "      <td>102.002123</td>\n",
       "      <td>7.076716</td>\n",
       "      <td>67.165085</td>\n",
       "      <td>9</td>\n",
       "    </tr>\n",
       "    <tr>\n",
       "      <th>3</th>\n",
       "      <td>74.175425</td>\n",
       "      <td>-12.078425</td>\n",
       "      <td>21.287024</td>\n",
       "      <td>34.269941</td>\n",
       "      <td>58.250688</td>\n",
       "      <td>6.686496</td>\n",
       "      <td>154.600288</td>\n",
       "      <td>8</td>\n",
       "    </tr>\n",
       "    <tr>\n",
       "      <th>4</th>\n",
       "      <td>41.099239</td>\n",
       "      <td>10.118283</td>\n",
       "      <td>37.458900</td>\n",
       "      <td>30.262871</td>\n",
       "      <td>73.284020</td>\n",
       "      <td>5.766613</td>\n",
       "      <td>169.906773</td>\n",
       "      <td>3</td>\n",
       "    </tr>\n",
       "  </tbody>\n",
       "</table>\n",
       "</div>"
      ],
      "text/plain": [
       "           N           P          K  temperature    humidity        ph  \\\n",
       "0  37.000000   30.000000  34.000000    27.539075   53.635495  6.797779   \n",
       "1  46.534638   34.880990  90.734325    25.773682   79.593288  6.477466   \n",
       "2  16.463391  105.430706  69.872653    26.976619  102.002123  7.076716   \n",
       "3  74.175425  -12.078425  21.287024    34.269941   58.250688  6.686496   \n",
       "4  41.099239   10.118283  37.458900    30.262871   73.284020  5.766613   \n",
       "\n",
       "     rainfall  label  \n",
       "0   99.354082     12  \n",
       "1   85.865569      8  \n",
       "2   67.165085      9  \n",
       "3  154.600288      8  \n",
       "4  169.906773      3  "
      ]
     },
     "execution_count": 42,
     "metadata": {},
     "output_type": "execute_result"
    }
   ],
   "source": [
    "crop.head()"
   ]
  },
  {
   "cell_type": "code",
   "execution_count": 43,
   "id": "a718b3f3-f06a-4129-96e2-6f24c3b1e9d1",
   "metadata": {},
   "outputs": [],
   "source": [
    "N=46\n",
    "P= 34.88\n",
    "K= 90.74\n",
    "temperature= 25.78\n",
    "humidity=79.61\n",
    "ph=6.478\n",
    "rainfall=85.86\n",
    "\n",
    "predict = recommendation(N,P,K,temperature,humidity,ph,rainfall)"
   ]
  },
  {
   "cell_type": "code",
   "execution_count": 44,
   "id": "d81bfc47-b0ae-473a-ae29-2e1ba9d0bbb1",
   "metadata": {},
   "outputs": [
    {
     "data": {
      "text/plain": [
       "array([18], dtype=int64)"
      ]
     },
     "execution_count": 44,
     "metadata": {},
     "output_type": "execute_result"
    }
   ],
   "source": [
    "predict"
   ]
  },
  {
   "cell_type": "code",
   "execution_count": 45,
   "id": "f0991c7d-3c05-4141-a105-797acf7fc55f",
   "metadata": {},
   "outputs": [
    {
     "data": {
      "text/plain": [
       "array([18], dtype=int64)"
      ]
     },
     "execution_count": 45,
     "metadata": {},
     "output_type": "execute_result"
    }
   ],
   "source": [
    "N=90\n",
    "P= 42\n",
    "K= 43\n",
    "temperature= 20.879744\n",
    "humidity=82.002744\n",
    "ph= 6.502985\n",
    "rainfall=202.935536\n",
    "\n",
    "predict = recommendation(N,P,K,temperature,humidity,ph,rainfall)\n",
    "\n",
    "predict"
   ]
  },
  {
   "cell_type": "code",
   "execution_count": 46,
   "id": "b26726df-1fe1-44c3-9c5f-f0afc1b3ded1",
   "metadata": {},
   "outputs": [],
   "source": [
    "# serialize and deserialize (storing in a database)\n",
    "\n",
    "import pickle\n",
    "pickle.dump(randclf, open('Model.pkl', 'wb'))\n",
    "pickle.dump(mx, open('MinMaxScaler.pkl', 'wb'))\n",
    "pickle.dump(sc, open('Standard.pkl', 'wb'))"
   ]
  },
  {
   "cell_type": "code",
   "execution_count": null,
   "id": "49d61ac5-fbec-47e9-9c46-9e71831a04cd",
   "metadata": {},
   "outputs": [],
   "source": []
  }
 ],
 "metadata": {
  "kernelspec": {
   "display_name": "Python 3 (ipykernel)",
   "language": "python",
   "name": "python3"
  },
  "language_info": {
   "codemirror_mode": {
    "name": "ipython",
    "version": 3
   },
   "file_extension": ".py",
   "mimetype": "text/x-python",
   "name": "python",
   "nbconvert_exporter": "python",
   "pygments_lexer": "ipython3",
   "version": "3.11.7"
  }
 },
 "nbformat": 4,
 "nbformat_minor": 5
}
